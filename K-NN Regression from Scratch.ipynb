{
 "cells": [
  {
   "cell_type": "markdown",
   "id": "8edca87d",
   "metadata": {},
   "source": [
    "# K-NN Regression from Scratch"
   ]
  },
  {
   "cell_type": "code",
   "execution_count": 1,
   "id": "a58eb6f0",
   "metadata": {},
   "outputs": [],
   "source": [
    "import numpy as np\n",
    "import pandas as pd"
   ]
  },
  {
   "cell_type": "code",
   "execution_count": 2,
   "id": "d273d96a",
   "metadata": {},
   "outputs": [],
   "source": [
    "import os \n",
    "os.chdir('C:\\\\Users\\\\cance')"
   ]
  },
  {
   "cell_type": "raw",
   "id": "1ddf6c89",
   "metadata": {},
   "source": [
    "Here i am using a dataset which is saved in a file named knn which has two sheets namely train and test. the data is pre-splitted into train and test and also the data has been pre minmax scaled."
   ]
  },
  {
   "cell_type": "code",
   "execution_count": 3,
   "id": "4d88523a",
   "metadata": {},
   "outputs": [],
   "source": [
    "df_knn_train = pd.read_excel('knn.xlsx',sheet_name = 'train') #reading in the train the data."
   ]
  },
  {
   "cell_type": "code",
   "execution_count": 4,
   "id": "19a23bf4",
   "metadata": {},
   "outputs": [
    {
     "data": {
      "text/html": [
       "<div>\n",
       "<style scoped>\n",
       "    .dataframe tbody tr th:only-of-type {\n",
       "        vertical-align: middle;\n",
       "    }\n",
       "\n",
       "    .dataframe tbody tr th {\n",
       "        vertical-align: top;\n",
       "    }\n",
       "\n",
       "    .dataframe thead th {\n",
       "        text-align: right;\n",
       "    }\n",
       "</style>\n",
       "<table border=\"1\" class=\"dataframe\">\n",
       "  <thead>\n",
       "    <tr style=\"text-align: right;\">\n",
       "      <th></th>\n",
       "      <th>X1</th>\n",
       "      <th>X2</th>\n",
       "      <th>X3</th>\n",
       "      <th>y</th>\n",
       "    </tr>\n",
       "  </thead>\n",
       "  <tbody>\n",
       "    <tr>\n",
       "      <th>0</th>\n",
       "      <td>-0.059533</td>\n",
       "      <td>0.763686</td>\n",
       "      <td>0.317046</td>\n",
       "      <td>-0.070229</td>\n",
       "    </tr>\n",
       "    <tr>\n",
       "      <th>1</th>\n",
       "      <td>1.916473</td>\n",
       "      <td>-0.378508</td>\n",
       "      <td>-0.411538</td>\n",
       "      <td>1.887648</td>\n",
       "    </tr>\n",
       "    <tr>\n",
       "      <th>2</th>\n",
       "      <td>-0.237390</td>\n",
       "      <td>-0.244097</td>\n",
       "      <td>-1.053888</td>\n",
       "      <td>-0.316625</td>\n",
       "    </tr>\n",
       "    <tr>\n",
       "      <th>3</th>\n",
       "      <td>-0.579256</td>\n",
       "      <td>0.135478</td>\n",
       "      <td>-0.507913</td>\n",
       "      <td>-0.627537</td>\n",
       "    </tr>\n",
       "    <tr>\n",
       "      <th>4</th>\n",
       "      <td>0.873726</td>\n",
       "      <td>-1.569405</td>\n",
       "      <td>0.435819</td>\n",
       "      <td>0.987233</td>\n",
       "    </tr>\n",
       "  </tbody>\n",
       "</table>\n",
       "</div>"
      ],
      "text/plain": [
       "         X1        X2        X3         y\n",
       "0 -0.059533  0.763686  0.317046 -0.070229\n",
       "1  1.916473 -0.378508 -0.411538  1.887648\n",
       "2 -0.237390 -0.244097 -1.053888 -0.316625\n",
       "3 -0.579256  0.135478 -0.507913 -0.627537\n",
       "4  0.873726 -1.569405  0.435819  0.987233"
      ]
     },
     "execution_count": 4,
     "metadata": {},
     "output_type": "execute_result"
    }
   ],
   "source": [
    "df_knn_train.head() #checking the top few rows of train data"
   ]
  },
  {
   "cell_type": "code",
   "execution_count": 5,
   "id": "fa012564",
   "metadata": {},
   "outputs": [
    {
     "data": {
      "text/plain": [
       "(719, 4)"
      ]
     },
     "execution_count": 5,
     "metadata": {},
     "output_type": "execute_result"
    }
   ],
   "source": [
    "df_knn_train.shape #checking the shape of train data"
   ]
  },
  {
   "cell_type": "code",
   "execution_count": 6,
   "id": "087985e9",
   "metadata": {},
   "outputs": [],
   "source": [
    "df_knn_test = pd.read_excel('knn.xlsx',sheet_name = 'test')  #reading in the test data"
   ]
  },
  {
   "cell_type": "code",
   "execution_count": 7,
   "id": "91b3eb30",
   "metadata": {},
   "outputs": [
    {
     "data": {
      "text/html": [
       "<div>\n",
       "<style scoped>\n",
       "    .dataframe tbody tr th:only-of-type {\n",
       "        vertical-align: middle;\n",
       "    }\n",
       "\n",
       "    .dataframe tbody tr th {\n",
       "        vertical-align: top;\n",
       "    }\n",
       "\n",
       "    .dataframe thead th {\n",
       "        text-align: right;\n",
       "    }\n",
       "</style>\n",
       "<table border=\"1\" class=\"dataframe\">\n",
       "  <thead>\n",
       "    <tr style=\"text-align: right;\">\n",
       "      <th></th>\n",
       "      <th>X1</th>\n",
       "      <th>X2</th>\n",
       "      <th>X3</th>\n",
       "      <th>y</th>\n",
       "    </tr>\n",
       "  </thead>\n",
       "  <tbody>\n",
       "    <tr>\n",
       "      <th>0</th>\n",
       "      <td>0.295855</td>\n",
       "      <td>0.145806</td>\n",
       "      <td>1.381112</td>\n",
       "      <td>0.408699</td>\n",
       "    </tr>\n",
       "    <tr>\n",
       "      <th>1</th>\n",
       "      <td>1.461282</td>\n",
       "      <td>0.807982</td>\n",
       "      <td>-1.021636</td>\n",
       "      <td>1.320564</td>\n",
       "    </tr>\n",
       "    <tr>\n",
       "      <th>2</th>\n",
       "      <td>-1.487283</td>\n",
       "      <td>0.294966</td>\n",
       "      <td>-1.093920</td>\n",
       "      <td>-1.589954</td>\n",
       "    </tr>\n",
       "    <tr>\n",
       "      <th>3</th>\n",
       "      <td>1.061516</td>\n",
       "      <td>1.475837</td>\n",
       "      <td>-0.987645</td>\n",
       "      <td>0.892074</td>\n",
       "    </tr>\n",
       "    <tr>\n",
       "      <th>4</th>\n",
       "      <td>-0.189910</td>\n",
       "      <td>-0.100671</td>\n",
       "      <td>-1.146587</td>\n",
       "      <td>-0.284978</td>\n",
       "    </tr>\n",
       "  </tbody>\n",
       "</table>\n",
       "</div>"
      ],
      "text/plain": [
       "         X1        X2        X3         y\n",
       "0  0.295855  0.145806  1.381112  0.408699\n",
       "1  1.461282  0.807982 -1.021636  1.320564\n",
       "2 -1.487283  0.294966 -1.093920 -1.589954\n",
       "3  1.061516  1.475837 -0.987645  0.892074\n",
       "4 -0.189910 -0.100671 -1.146587 -0.284978"
      ]
     },
     "execution_count": 7,
     "metadata": {},
     "output_type": "execute_result"
    }
   ],
   "source": [
    "df_knn_test.head()  #checcking the first few rows of test data"
   ]
  },
  {
   "cell_type": "code",
   "execution_count": 8,
   "id": "a6a0b2d6",
   "metadata": {},
   "outputs": [
    {
     "data": {
      "text/plain": [
       "(281, 4)"
      ]
     },
     "execution_count": 8,
     "metadata": {},
     "output_type": "execute_result"
    }
   ],
   "source": [
    "df_knn_test.shape   #checking theshape of test data"
   ]
  },
  {
   "cell_type": "code",
   "execution_count": 9,
   "id": "fa29c9d0",
   "metadata": {},
   "outputs": [],
   "source": [
    "#splitting the features for both test and train dataset\n",
    "X_train = df_knn_train[['X1','X2','X3']] \n",
    "X_test = df_knn_test[['X1','X2','X3']]"
   ]
  },
  {
   "cell_type": "code",
   "execution_count": 10,
   "id": "ad865419",
   "metadata": {},
   "outputs": [
    {
     "data": {
      "text/plain": [
       "((719, 3), (281, 3))"
      ]
     },
     "execution_count": 10,
     "metadata": {},
     "output_type": "execute_result"
    }
   ],
   "source": [
    "#checking the shape of features for train and test dataset\n",
    "X_train.shape,X_test.shape"
   ]
  },
  {
   "cell_type": "code",
   "execution_count": 11,
   "id": "5a114866",
   "metadata": {},
   "outputs": [],
   "source": [
    "#splitting the label for both train and test dataset\n",
    "y_train = df_knn_train[['y']]\n",
    "y_test = df_knn_test[['y']]"
   ]
  },
  {
   "cell_type": "code",
   "execution_count": 12,
   "id": "318b5ef9",
   "metadata": {},
   "outputs": [
    {
     "data": {
      "text/plain": [
       "((719, 1), (281, 1))"
      ]
     },
     "execution_count": 12,
     "metadata": {},
     "output_type": "execute_result"
    }
   ],
   "source": [
    "#checking the shape of train and test labels\n",
    "y_train.shape,y_test.shape"
   ]
  },
  {
   "cell_type": "raw",
   "id": "4bb842a0",
   "metadata": {},
   "source": [
    "Here I am using 10 rows from test dataset and 100 rows from train dataset as the kernel was unable to process such huge data."
   ]
  },
  {
   "cell_type": "code",
   "execution_count": 13,
   "id": "1adcbd69",
   "metadata": {},
   "outputs": [],
   "source": [
    "y_pred_list = []  #declaring an empty list to append the predictions\n",
    "for i in range(0,10): #first ten rows of test data\n",
    "    df_list = []\n",
    "    for j in range(0,100): #first hundred rows of train data\n",
    "        dist = np.sqrt((X_test.X1[i] - X_train.X1[j])**2 + (X_test.X2[i] - X_train.X2[j])**2 + (X_test.X3[i] - X_train.X3[j])**2)\n",
    "        #calculating the distance of each test dataset wrt to train dataset\n",
    "        df_list = df_list + [dist] #creating a list of all distances of test wrt train\n",
    "    df_list_s = np.argsort(df_list) #sorting and getting the index of the rows corresponding to nearest 3 neighbor rows\n",
    "    e=1\n",
    "    add = 0\n",
    "    while(e<4):\n",
    "        add = df_knn_train.iloc[df_list_s[0],3] + df_knn_train.iloc[df_list_s[1],3] + df_knn_train.iloc[df_list_s[2],3]\n",
    "        #calculating the sum of nearest 3 distances\n",
    "        e += 1\n",
    "    y_pred = add/3 #calculating the average of nearest distances\n",
    "    y_pred_list = y_pred_list + [y_pred]  #creating a list of predicted values for each test dataset\n",
    "        "
   ]
  },
  {
   "cell_type": "code",
   "execution_count": 14,
   "id": "02509500",
   "metadata": {},
   "outputs": [
    {
     "data": {
      "text/plain": [
       "array([ 0.40869854,  1.3205642 , -1.58995375,  0.89207373, -0.28497806,\n",
       "       -0.65107017,  0.48509891, -0.44681526,  0.15576049,  0.12323039])"
      ]
     },
     "execution_count": 14,
     "metadata": {},
     "output_type": "execute_result"
    }
   ],
   "source": [
    "y_pred_arr = np.array(y_pred_list)\n",
    "y_act_arr = np.array(df_knn_test.iloc[0:10,3])\n",
    "y_act_arr #array of actual test labels"
   ]
  },
  {
   "cell_type": "code",
   "execution_count": 15,
   "id": "18eea847",
   "metadata": {},
   "outputs": [
    {
     "data": {
      "text/plain": [
       "array([ 0.55494577,  1.74601783, -1.5389913 ,  0.79837905, -0.34657544,\n",
       "       -1.00907783,  0.13078673, -0.58251659,  0.42986303,  0.02703537])"
      ]
     },
     "execution_count": 15,
     "metadata": {},
     "output_type": "execute_result"
    }
   ],
   "source": [
    "#array of predicted test labels\n",
    "y_pred_arr"
   ]
  },
  {
   "cell_type": "code",
   "execution_count": 16,
   "id": "f430efd3",
   "metadata": {},
   "outputs": [
    {
     "data": {
      "text/plain": [
       "0.5157598577908873"
      ]
     },
     "execution_count": 16,
     "metadata": {},
     "output_type": "execute_result"
    }
   ],
   "source": [
    "#calculating MAPE\n",
    "MAPE = np.sum(np.absolute((y_act_arr - y_pred_arr)/y_act_arr))/10\n",
    "MAPE"
   ]
  },
  {
   "cell_type": "raw",
   "id": "1d6287ec",
   "metadata": {},
   "source": [
    "MAPE for the test data is 0.5157598577908873"
   ]
  },
  {
   "cell_type": "markdown",
   "id": "f447a0d4",
   "metadata": {},
   "source": [
    "# K-NN Regression by using sklearn.neighbors library."
   ]
  },
  {
   "cell_type": "code",
   "execution_count": 17,
   "id": "a28e7406",
   "metadata": {},
   "outputs": [],
   "source": [
    "from sklearn.neighbors import KNeighborsRegressor  #import KNN Regressor package from sklearn library"
   ]
  },
  {
   "cell_type": "code",
   "execution_count": 18,
   "id": "66aa2b98",
   "metadata": {},
   "outputs": [],
   "source": [
    "df_train = pd.read_excel('knn.xlsx',sheet_name = 'train')  #reading in the train data"
   ]
  },
  {
   "cell_type": "code",
   "execution_count": 19,
   "id": "9ac2e819",
   "metadata": {},
   "outputs": [
    {
     "data": {
      "text/html": [
       "<div>\n",
       "<style scoped>\n",
       "    .dataframe tbody tr th:only-of-type {\n",
       "        vertical-align: middle;\n",
       "    }\n",
       "\n",
       "    .dataframe tbody tr th {\n",
       "        vertical-align: top;\n",
       "    }\n",
       "\n",
       "    .dataframe thead th {\n",
       "        text-align: right;\n",
       "    }\n",
       "</style>\n",
       "<table border=\"1\" class=\"dataframe\">\n",
       "  <thead>\n",
       "    <tr style=\"text-align: right;\">\n",
       "      <th></th>\n",
       "      <th>X1</th>\n",
       "      <th>X2</th>\n",
       "      <th>X3</th>\n",
       "      <th>y</th>\n",
       "    </tr>\n",
       "  </thead>\n",
       "  <tbody>\n",
       "    <tr>\n",
       "      <th>0</th>\n",
       "      <td>-0.059533</td>\n",
       "      <td>0.763686</td>\n",
       "      <td>0.317046</td>\n",
       "      <td>-0.070229</td>\n",
       "    </tr>\n",
       "    <tr>\n",
       "      <th>1</th>\n",
       "      <td>1.916473</td>\n",
       "      <td>-0.378508</td>\n",
       "      <td>-0.411538</td>\n",
       "      <td>1.887648</td>\n",
       "    </tr>\n",
       "    <tr>\n",
       "      <th>2</th>\n",
       "      <td>-0.237390</td>\n",
       "      <td>-0.244097</td>\n",
       "      <td>-1.053888</td>\n",
       "      <td>-0.316625</td>\n",
       "    </tr>\n",
       "    <tr>\n",
       "      <th>3</th>\n",
       "      <td>-0.579256</td>\n",
       "      <td>0.135478</td>\n",
       "      <td>-0.507913</td>\n",
       "      <td>-0.627537</td>\n",
       "    </tr>\n",
       "    <tr>\n",
       "      <th>4</th>\n",
       "      <td>0.873726</td>\n",
       "      <td>-1.569405</td>\n",
       "      <td>0.435819</td>\n",
       "      <td>0.987233</td>\n",
       "    </tr>\n",
       "  </tbody>\n",
       "</table>\n",
       "</div>"
      ],
      "text/plain": [
       "         X1        X2        X3         y\n",
       "0 -0.059533  0.763686  0.317046 -0.070229\n",
       "1  1.916473 -0.378508 -0.411538  1.887648\n",
       "2 -0.237390 -0.244097 -1.053888 -0.316625\n",
       "3 -0.579256  0.135478 -0.507913 -0.627537\n",
       "4  0.873726 -1.569405  0.435819  0.987233"
      ]
     },
     "execution_count": 19,
     "metadata": {},
     "output_type": "execute_result"
    }
   ],
   "source": [
    "df_train.head()  #getting the first few rows of train dataset"
   ]
  },
  {
   "cell_type": "code",
   "execution_count": 20,
   "id": "a430e5b0",
   "metadata": {},
   "outputs": [
    {
     "data": {
      "text/html": [
       "<div>\n",
       "<style scoped>\n",
       "    .dataframe tbody tr th:only-of-type {\n",
       "        vertical-align: middle;\n",
       "    }\n",
       "\n",
       "    .dataframe tbody tr th {\n",
       "        vertical-align: top;\n",
       "    }\n",
       "\n",
       "    .dataframe thead th {\n",
       "        text-align: right;\n",
       "    }\n",
       "</style>\n",
       "<table border=\"1\" class=\"dataframe\">\n",
       "  <thead>\n",
       "    <tr style=\"text-align: right;\">\n",
       "      <th></th>\n",
       "      <th>X1</th>\n",
       "      <th>X2</th>\n",
       "      <th>X3</th>\n",
       "      <th>y</th>\n",
       "    </tr>\n",
       "  </thead>\n",
       "  <tbody>\n",
       "    <tr>\n",
       "      <th>714</th>\n",
       "      <td>0.893850</td>\n",
       "      <td>0.533300</td>\n",
       "      <td>0.400137</td>\n",
       "      <td>0.896421</td>\n",
       "    </tr>\n",
       "    <tr>\n",
       "      <th>715</th>\n",
       "      <td>-0.205388</td>\n",
       "      <td>1.016971</td>\n",
       "      <td>-1.368106</td>\n",
       "      <td>-0.377172</td>\n",
       "    </tr>\n",
       "    <tr>\n",
       "      <th>716</th>\n",
       "      <td>0.408903</td>\n",
       "      <td>0.780158</td>\n",
       "      <td>0.527107</td>\n",
       "      <td>0.413051</td>\n",
       "    </tr>\n",
       "    <tr>\n",
       "      <th>717</th>\n",
       "      <td>1.472088</td>\n",
       "      <td>-0.108659</td>\n",
       "      <td>0.748379</td>\n",
       "      <td>1.534758</td>\n",
       "    </tr>\n",
       "    <tr>\n",
       "      <th>718</th>\n",
       "      <td>0.218200</td>\n",
       "      <td>-1.420519</td>\n",
       "      <td>-1.443651</td>\n",
       "      <td>0.161923</td>\n",
       "    </tr>\n",
       "  </tbody>\n",
       "</table>\n",
       "</div>"
      ],
      "text/plain": [
       "           X1        X2        X3         y\n",
       "714  0.893850  0.533300  0.400137  0.896421\n",
       "715 -0.205388  1.016971 -1.368106 -0.377172\n",
       "716  0.408903  0.780158  0.527107  0.413051\n",
       "717  1.472088 -0.108659  0.748379  1.534758\n",
       "718  0.218200 -1.420519 -1.443651  0.161923"
      ]
     },
     "execution_count": 20,
     "metadata": {},
     "output_type": "execute_result"
    }
   ],
   "source": [
    "df_train.tail()   #getting last few rows of train dataset"
   ]
  },
  {
   "cell_type": "code",
   "execution_count": 68,
   "id": "ac1303b9",
   "metadata": {},
   "outputs": [
    {
     "data": {
      "text/plain": [
       "X1    0\n",
       "X2    0\n",
       "X3    0\n",
       "y     0\n",
       "dtype: int64"
      ]
     },
     "execution_count": 68,
     "metadata": {},
     "output_type": "execute_result"
    }
   ],
   "source": [
    "df_train.isna().sum()  #checking for missing values in the train dataset"
   ]
  },
  {
   "cell_type": "code",
   "execution_count": 21,
   "id": "51530de6",
   "metadata": {},
   "outputs": [
    {
     "data": {
      "text/plain": [
       "(719, 4)"
      ]
     },
     "execution_count": 21,
     "metadata": {},
     "output_type": "execute_result"
    }
   ],
   "source": [
    "df_train.shape   #checking the shape for the train dataset"
   ]
  },
  {
   "cell_type": "code",
   "execution_count": 22,
   "id": "f6c864f6",
   "metadata": {},
   "outputs": [],
   "source": [
    "df_test = pd.read_excel('knn.xlsx',sheet_name = 'test')   #reading in the test dataset"
   ]
  },
  {
   "cell_type": "code",
   "execution_count": 23,
   "id": "37c5be98",
   "metadata": {},
   "outputs": [
    {
     "data": {
      "text/html": [
       "<div>\n",
       "<style scoped>\n",
       "    .dataframe tbody tr th:only-of-type {\n",
       "        vertical-align: middle;\n",
       "    }\n",
       "\n",
       "    .dataframe tbody tr th {\n",
       "        vertical-align: top;\n",
       "    }\n",
       "\n",
       "    .dataframe thead th {\n",
       "        text-align: right;\n",
       "    }\n",
       "</style>\n",
       "<table border=\"1\" class=\"dataframe\">\n",
       "  <thead>\n",
       "    <tr style=\"text-align: right;\">\n",
       "      <th></th>\n",
       "      <th>X1</th>\n",
       "      <th>X2</th>\n",
       "      <th>X3</th>\n",
       "      <th>y</th>\n",
       "    </tr>\n",
       "  </thead>\n",
       "  <tbody>\n",
       "    <tr>\n",
       "      <th>0</th>\n",
       "      <td>0.295855</td>\n",
       "      <td>0.145806</td>\n",
       "      <td>1.381112</td>\n",
       "      <td>0.408699</td>\n",
       "    </tr>\n",
       "    <tr>\n",
       "      <th>1</th>\n",
       "      <td>1.461282</td>\n",
       "      <td>0.807982</td>\n",
       "      <td>-1.021636</td>\n",
       "      <td>1.320564</td>\n",
       "    </tr>\n",
       "    <tr>\n",
       "      <th>2</th>\n",
       "      <td>-1.487283</td>\n",
       "      <td>0.294966</td>\n",
       "      <td>-1.093920</td>\n",
       "      <td>-1.589954</td>\n",
       "    </tr>\n",
       "    <tr>\n",
       "      <th>3</th>\n",
       "      <td>1.061516</td>\n",
       "      <td>1.475837</td>\n",
       "      <td>-0.987645</td>\n",
       "      <td>0.892074</td>\n",
       "    </tr>\n",
       "    <tr>\n",
       "      <th>4</th>\n",
       "      <td>-0.189910</td>\n",
       "      <td>-0.100671</td>\n",
       "      <td>-1.146587</td>\n",
       "      <td>-0.284978</td>\n",
       "    </tr>\n",
       "  </tbody>\n",
       "</table>\n",
       "</div>"
      ],
      "text/plain": [
       "         X1        X2        X3         y\n",
       "0  0.295855  0.145806  1.381112  0.408699\n",
       "1  1.461282  0.807982 -1.021636  1.320564\n",
       "2 -1.487283  0.294966 -1.093920 -1.589954\n",
       "3  1.061516  1.475837 -0.987645  0.892074\n",
       "4 -0.189910 -0.100671 -1.146587 -0.284978"
      ]
     },
     "execution_count": 23,
     "metadata": {},
     "output_type": "execute_result"
    }
   ],
   "source": [
    "df_test.head()  #getting the first few rows of the test dataset"
   ]
  },
  {
   "cell_type": "code",
   "execution_count": 24,
   "id": "88187d26",
   "metadata": {},
   "outputs": [
    {
     "data": {
      "text/html": [
       "<div>\n",
       "<style scoped>\n",
       "    .dataframe tbody tr th:only-of-type {\n",
       "        vertical-align: middle;\n",
       "    }\n",
       "\n",
       "    .dataframe tbody tr th {\n",
       "        vertical-align: top;\n",
       "    }\n",
       "\n",
       "    .dataframe thead th {\n",
       "        text-align: right;\n",
       "    }\n",
       "</style>\n",
       "<table border=\"1\" class=\"dataframe\">\n",
       "  <thead>\n",
       "    <tr style=\"text-align: right;\">\n",
       "      <th></th>\n",
       "      <th>X1</th>\n",
       "      <th>X2</th>\n",
       "      <th>X3</th>\n",
       "      <th>y</th>\n",
       "    </tr>\n",
       "  </thead>\n",
       "  <tbody>\n",
       "    <tr>\n",
       "      <th>276</th>\n",
       "      <td>-0.382505</td>\n",
       "      <td>-0.435133</td>\n",
       "      <td>-1.553510</td>\n",
       "      <td>-0.495246</td>\n",
       "    </tr>\n",
       "    <tr>\n",
       "      <th>277</th>\n",
       "      <td>-1.247482</td>\n",
       "      <td>0.404737</td>\n",
       "      <td>0.421076</td>\n",
       "      <td>-1.223280</td>\n",
       "    </tr>\n",
       "    <tr>\n",
       "      <th>278</th>\n",
       "      <td>1.031076</td>\n",
       "      <td>-0.169142</td>\n",
       "      <td>1.234853</td>\n",
       "      <td>1.142579</td>\n",
       "    </tr>\n",
       "    <tr>\n",
       "      <th>279</th>\n",
       "      <td>-0.712677</td>\n",
       "      <td>0.803115</td>\n",
       "      <td>0.479940</td>\n",
       "      <td>-0.706962</td>\n",
       "    </tr>\n",
       "    <tr>\n",
       "      <th>280</th>\n",
       "      <td>0.226365</td>\n",
       "      <td>-0.152631</td>\n",
       "      <td>-1.801509</td>\n",
       "      <td>0.073477</td>\n",
       "    </tr>\n",
       "  </tbody>\n",
       "</table>\n",
       "</div>"
      ],
      "text/plain": [
       "           X1        X2        X3         y\n",
       "276 -0.382505 -0.435133 -1.553510 -0.495246\n",
       "277 -1.247482  0.404737  0.421076 -1.223280\n",
       "278  1.031076 -0.169142  1.234853  1.142579\n",
       "279 -0.712677  0.803115  0.479940 -0.706962\n",
       "280  0.226365 -0.152631 -1.801509  0.073477"
      ]
     },
     "execution_count": 24,
     "metadata": {},
     "output_type": "execute_result"
    }
   ],
   "source": [
    "df_test.tail()   #getting the last few rows of the test dataset"
   ]
  },
  {
   "cell_type": "code",
   "execution_count": 25,
   "id": "aad4cc7d",
   "metadata": {},
   "outputs": [
    {
     "data": {
      "text/plain": [
       "(281, 4)"
      ]
     },
     "execution_count": 25,
     "metadata": {},
     "output_type": "execute_result"
    }
   ],
   "source": [
    "df_test.shape  #checking the shape of test dataset"
   ]
  },
  {
   "cell_type": "code",
   "execution_count": 55,
   "id": "a0905b00",
   "metadata": {},
   "outputs": [],
   "source": [
    "df_train = pd.DataFrame(df_train.iloc[0:100,:])   #considering first  rows for train"
   ]
  },
  {
   "cell_type": "code",
   "execution_count": 56,
   "id": "2891d916",
   "metadata": {},
   "outputs": [],
   "source": [
    "df_test = pd.DataFrame(df_test.iloc[0:10,:])   #considering first  rows for test"
   ]
  },
  {
   "cell_type": "code",
   "execution_count": 57,
   "id": "0f447254",
   "metadata": {},
   "outputs": [],
   "source": [
    "#splitting the features for both train and test dataset\n",
    "X_test = df_test[['X1','X2','X3']]\n",
    "X_train = df_train[['X1','X2','X3']]"
   ]
  },
  {
   "cell_type": "code",
   "execution_count": 58,
   "id": "bd84009f",
   "metadata": {},
   "outputs": [
    {
     "data": {
      "text/plain": [
       "(10, 3)"
      ]
     },
     "execution_count": 58,
     "metadata": {},
     "output_type": "execute_result"
    }
   ],
   "source": [
    "X_test.shape"
   ]
  },
  {
   "cell_type": "code",
   "execution_count": 59,
   "id": "169530d3",
   "metadata": {},
   "outputs": [],
   "source": [
    "#splitting the labels for both train and test dataset\n",
    "y_train = df_train[['y']]\n",
    "y_test = df_test[['y']]"
   ]
  },
  {
   "cell_type": "code",
   "execution_count": 60,
   "id": "fe70dfb1",
   "metadata": {},
   "outputs": [],
   "source": [
    "#setting tnumber of nearest neighbors to 3\n",
    "k = 3\n",
    "knn = KNeighborsRegressor(n_neighbors = k)  #instatntiating the KNeighborsRegressor"
   ]
  },
  {
   "cell_type": "code",
   "execution_count": 61,
   "id": "8b5c869b",
   "metadata": {},
   "outputs": [],
   "source": [
    "model_knn = knn.fit(X_train,y_train)   #fitting the model for train dataset\n",
    "preds = model_knn.predict(X_train)   #making predictions for train features"
   ]
  },
  {
   "cell_type": "code",
   "execution_count": 62,
   "id": "ddd6f800",
   "metadata": {},
   "outputs": [
    {
     "data": {
      "text/plain": [
       "numpy.ndarray"
      ]
     },
     "execution_count": 62,
     "metadata": {},
     "output_type": "execute_result"
    }
   ],
   "source": [
    "type(preds)"
   ]
  },
  {
   "cell_type": "code",
   "execution_count": 63,
   "id": "833141ae",
   "metadata": {},
   "outputs": [],
   "source": [
    "y_train_arr = np.array(y_train)   #converting the train label from dataframe to numpy array"
   ]
  },
  {
   "cell_type": "code",
   "execution_count": 64,
   "id": "474681c8",
   "metadata": {},
   "outputs": [
    {
     "data": {
      "text/plain": [
       "0.5681659648995504"
      ]
     },
     "execution_count": 64,
     "metadata": {},
     "output_type": "execute_result"
    }
   ],
   "source": [
    "#calculating train Mean Absolute Percentage Error\n",
    "MAPE = np.sum(np.absolute((y_train_arr - preds)/y_train_arr))/len(y_train_arr)\n",
    "MAPE"
   ]
  },
  {
   "cell_type": "code",
   "execution_count": 65,
   "id": "1416c4af",
   "metadata": {},
   "outputs": [
    {
     "data": {
      "text/plain": [
       "10"
      ]
     },
     "execution_count": 65,
     "metadata": {},
     "output_type": "execute_result"
    }
   ],
   "source": [
    "#making predictions for test dataset using the earlier fitted knn model\n",
    "pred_test = model_knn.predict(X_test)\n",
    "len(pred_test)"
   ]
  },
  {
   "cell_type": "code",
   "execution_count": 66,
   "id": "0dce77c3",
   "metadata": {},
   "outputs": [
    {
     "data": {
      "text/plain": [
       "10"
      ]
     },
     "execution_count": 66,
     "metadata": {},
     "output_type": "execute_result"
    }
   ],
   "source": [
    "#converting the test label from dataframe to numpy array\n",
    "y_test_arr = np.array(y_test)\n",
    "len(y_test_arr)"
   ]
  },
  {
   "cell_type": "code",
   "execution_count": 67,
   "id": "bf3834be",
   "metadata": {},
   "outputs": [
    {
     "data": {
      "text/plain": [
       "0.5157598577908873"
      ]
     },
     "execution_count": 67,
     "metadata": {},
     "output_type": "execute_result"
    }
   ],
   "source": [
    "#calculating test Mean Absolute Percentage Error\n",
    "MAPE_test = np.sum(np.absolute((y_test_arr - pred_test)/y_test_arr))/len(y_test_arr)\n",
    "MAPE_test"
   ]
  },
  {
   "cell_type": "raw",
   "id": "01437989",
   "metadata": {},
   "source": [
    "The MAPE for test dataset is 0.5157598577908873."
   ]
  },
  {
   "cell_type": "raw",
   "id": "0edb0773",
   "metadata": {},
   "source": [
    "MAPE for test dataset without using sklearn library is 0.5157598577908873 and MAPE for test using the sklearn library is 0.5157598577908873.\n",
    "This implies that the model we did without using the sklearn library is correct."
   ]
  },
  {
   "cell_type": "code",
   "execution_count": null,
   "id": "41b2d884",
   "metadata": {},
   "outputs": [],
   "source": []
  }
 ],
 "metadata": {
  "kernelspec": {
   "display_name": "Python 3 (ipykernel)",
   "language": "python",
   "name": "python3"
  },
  "language_info": {
   "codemirror_mode": {
    "name": "ipython",
    "version": 3
   },
   "file_extension": ".py",
   "mimetype": "text/x-python",
   "name": "python",
   "nbconvert_exporter": "python",
   "pygments_lexer": "ipython3",
   "version": "3.9.13"
  }
 },
 "nbformat": 4,
 "nbformat_minor": 5
}
